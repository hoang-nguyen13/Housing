{
 "cells": [
  {
   "cell_type": "code",
   "execution_count": null,
   "metadata": {},
   "outputs": [],
   "source": [
    "from multiprocessing import Pool\n",
    "import time\n",
    "from scraping import scrape_district\n",
    "import os\n",
    "import pandas as pd"
   ]
  },
  {
   "cell_type": "markdown",
   "metadata": {},
   "source": [
    "# 1. Fetch and Parse"
   ]
  },
  {
   "cell_type": "code",
   "execution_count": 28,
   "metadata": {},
   "outputs": [
    {
     "name": "stdout",
     "output_type": "stream",
     "text": [
      "Scraping listings for ba-dinh...\n",
      "Scraping page 1... https://batdongsan.com.vn/ban-can-ho-chung-cu-ba-dinh?cIds=650\n",
      "Scraping page 2... https://batdongsan.com.vn/ban-can-ho-chung-cu-ba-dinh/p2?cIds=650\n",
      "Scraping page 3... https://batdongsan.com.vn/ban-can-ho-chung-cu-ba-dinh/p3?cIds=650\n",
      "Scraping page 4... https://batdongsan.com.vn/ban-can-ho-chung-cu-ba-dinh/p4?cIds=650\n",
      "Scraping page 5... https://batdongsan.com.vn/ban-can-ho-chung-cu-ba-dinh/p5?cIds=650\n",
      "Scraping page 6... https://batdongsan.com.vn/ban-can-ho-chung-cu-ba-dinh/p6?cIds=650\n",
      "Scraping page 7... https://batdongsan.com.vn/ban-can-ho-chung-cu-ba-dinh/p7?cIds=650\n",
      "Scraping page 8... https://batdongsan.com.vn/ban-can-ho-chung-cu-ba-dinh/p8?cIds=650\n",
      "Scraping page 9... https://batdongsan.com.vn/ban-can-ho-chung-cu-ba-dinh/p9?cIds=650\n",
      "Scraping page 10... https://batdongsan.com.vn/ban-can-ho-chung-cu-ba-dinh/p10?cIds=650\n",
      "Scraping page 11... https://batdongsan.com.vn/ban-can-ho-chung-cu-ba-dinh/p11?cIds=650\n",
      "Scraping page 12... https://batdongsan.com.vn/ban-can-ho-chung-cu-ba-dinh/p12?cIds=650\n",
      "Scraping page 13... https://batdongsan.com.vn/ban-can-ho-chung-cu-ba-dinh/p13?cIds=650\n",
      "Scraping page 14... https://batdongsan.com.vn/ban-can-ho-chung-cu-ba-dinh/p14?cIds=650\n",
      "Scraping page 15... https://batdongsan.com.vn/ban-can-ho-chung-cu-ba-dinh/p15?cIds=650\n",
      "Scraping page 16... https://batdongsan.com.vn/ban-can-ho-chung-cu-ba-dinh/p16?cIds=650\n",
      "Scraping page 17... https://batdongsan.com.vn/ban-can-ho-chung-cu-ba-dinh/p17?cIds=650\n",
      "Scraping page 18... https://batdongsan.com.vn/ban-can-ho-chung-cu-ba-dinh/p18?cIds=650\n",
      "Scraping page 19... https://batdongsan.com.vn/ban-can-ho-chung-cu-ba-dinh/p19?cIds=650\n",
      "Scraping page 20... https://batdongsan.com.vn/ban-can-ho-chung-cu-ba-dinh/p20?cIds=650\n",
      "Error page detected. Stopping...\n",
      "Finished scraping for ba-dinh. Data saved.\n",
      "Scraping completed for all districts.\n"
     ]
    }
   ],
   "source": [
    "districts = [\n",
    "    #\"hoan-kiem\",\n",
    "    #\"thanh-xuan\", \"cau-giay\", \n",
    "    #\"nam-tu-liem\", \"bac-tu-liem\", \n",
    "    #\"hai-ba-trung\", \"dong-da\", \"ha-dong\", \"hoang-mai\", \n",
    "    #\"long-bien\", \"tay-ho\"\n",
    "    \"ba-dinh\",\n",
    "]\n",
    "\n",
    "def main():\n",
    "    # Use multiprocessing Pool to distribute scraping work across 4 cores\n",
    "    with Pool(processes=4) as pool:\n",
    "        pool.map(scrape_district, districts)\n",
    "\n",
    "    print(\"Scraping completed for all districts.\")\n",
    "\n",
    "if __name__ == \"__main__\":\n",
    "    main()"
   ]
  },
  {
   "cell_type": "markdown",
   "metadata": {},
   "source": [
    "# 2. Merge"
   ]
  },
  {
   "cell_type": "code",
   "execution_count": null,
   "metadata": {},
   "outputs": [],
   "source": [
    "# List of district CSV files\n",
    "district_files = [\n",
    "    'data/filtered_real_estate_listings_thanh-xuan.csv',\n",
    "    'data/filtered_real_estate_listings_ba-dinh.csv',\n",
    "    'data/filtered_real_estate_listings_cau-giay.csv',\n",
    "    'data/filtered_real_estate_listings_nam-tu-liem.csv',\n",
    "    'data/filtered_real_estate_listings_bac-tu-liem.csv',\n",
    "    'data/filtered_real_estate_listings_hai-ba-trung.csv',\n",
    "    'data/filtered_real_estate_listings_hoan-kiem.csv',\n",
    "    'data/filtered_real_estate_listings_dong-da.csv',\n",
    "    'data/filtered_real_estate_listings_ha-dong.csv',\n",
    "    'data/filtered_real_estate_listings_hoang-mai.csv',\n",
    "    'data/filtered_real_estate_listings_long-bien.csv',\n",
    "    'data/filtered_real_estate_listings_tay-ho.csv'\n",
    "]\n",
    "\n",
    "# Initialize an empty list to hold dataframes\n",
    "dfs = []\n",
    "\n",
    "# Loop through each district file\n",
    "for file in district_files:\n",
    "    if os.path.exists(file):  # Check if the file exists\n",
    "        df = pd.read_csv(file)  # Read the CSV file into a DataFrame\n",
    "        \n",
    "        # Append the cleaned dataframe to the list\n",
    "        dfs.append(df)\n",
    "\n",
    "# Concatenate all dataframes into one\n",
    "merged_df = pd.concat(dfs, ignore_index=True)\n",
    "\n",
    "# Save the merged dataframe into a new CSV file\n",
    "merged_df.to_csv('merged_cleaned_real_estate_listings.csv', index=False)\n",
    "\n",
    "print(\"All district data has been merged into 'merged_cleaned_real_estate_listings.csv'.\")"
   ]
  },
  {
   "cell_type": "markdown",
   "metadata": {},
   "source": [
    "# 3. Processing"
   ]
  },
  {
   "cell_type": "code",
   "execution_count": null,
   "metadata": {},
   "outputs": [],
   "source": []
  }
 ],
 "metadata": {
  "kernelspec": {
   "display_name": "venv",
   "language": "python",
   "name": "python3"
  },
  "language_info": {
   "codemirror_mode": {
    "name": "ipython",
    "version": 3
   },
   "file_extension": ".py",
   "mimetype": "text/x-python",
   "name": "python",
   "nbconvert_exporter": "python",
   "pygments_lexer": "ipython3",
   "version": "3.12.4"
  }
 },
 "nbformat": 4,
 "nbformat_minor": 2
}
